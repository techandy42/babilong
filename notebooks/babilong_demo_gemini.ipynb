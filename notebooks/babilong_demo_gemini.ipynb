{
  "cells": [
    {
      "cell_type": "markdown",
      "metadata": {
        "id": "view-in-github",
        "colab_type": "text"
      },
      "source": [
        "<a href=\"https://colab.research.google.com/github/techandy42/babilong/blob/main/notebooks/babilong_demo_gemini.ipynb\" target=\"_parent\"><img src=\"https://colab.research.google.com/assets/colab-badge.svg\" alt=\"Open In Colab\"/></a>"
      ]
    },
    {
      "cell_type": "markdown",
      "metadata": {
        "id": "ADmAesQTIqh8"
      },
      "source": [
        "# LLM evaluation demo\n",
        "\n",
        "First install dependences, download and unpack data"
      ]
    },
    {
      "cell_type": "code",
      "execution_count": 1,
      "metadata": {
        "colab": {
          "base_uri": "https://localhost:8080/"
        },
        "id": "XvaHKK3DIqiA",
        "outputId": "49079c60-a3db-4f0e-cdc6-a197e05806a7"
      },
      "outputs": [
        {
          "output_type": "stream",
          "name": "stdout",
          "text": [
            "Collecting datasets\n",
            "  Downloading datasets-2.18.0-py3-none-any.whl (510 kB)\n",
            "\u001b[2K     \u001b[90m━━━━━━━━━━━━━━━━━━━━━━━━━━━━━━━━━━━━━━━━\u001b[0m \u001b[32m510.5/510.5 kB\u001b[0m \u001b[31m5.2 MB/s\u001b[0m eta \u001b[36m0:00:00\u001b[0m\n",
            "\u001b[?25hRequirement already satisfied: torch in /usr/local/lib/python3.10/dist-packages (2.2.1+cu121)\n",
            "Requirement already satisfied: nltk in /usr/local/lib/python3.10/dist-packages (3.8.1)\n",
            "Requirement already satisfied: seaborn in /usr/local/lib/python3.10/dist-packages (0.13.1)\n",
            "Requirement already satisfied: matplotlib in /usr/local/lib/python3.10/dist-packages (3.7.1)\n",
            "Collecting python-dotenv\n",
            "  Downloading python_dotenv-1.0.1-py3-none-any.whl (19 kB)\n",
            "Requirement already satisfied: filelock in /usr/local/lib/python3.10/dist-packages (from datasets) (3.13.4)\n",
            "Requirement already satisfied: numpy>=1.17 in /usr/local/lib/python3.10/dist-packages (from datasets) (1.25.2)\n",
            "Requirement already satisfied: pyarrow>=12.0.0 in /usr/local/lib/python3.10/dist-packages (from datasets) (14.0.2)\n",
            "Requirement already satisfied: pyarrow-hotfix in /usr/local/lib/python3.10/dist-packages (from datasets) (0.6)\n",
            "Collecting dill<0.3.9,>=0.3.0 (from datasets)\n",
            "  Downloading dill-0.3.8-py3-none-any.whl (116 kB)\n",
            "\u001b[2K     \u001b[90m━━━━━━━━━━━━━━━━━━━━━━━━━━━━━━━━━━━━━━━━\u001b[0m \u001b[32m116.3/116.3 kB\u001b[0m \u001b[31m8.4 MB/s\u001b[0m eta \u001b[36m0:00:00\u001b[0m\n",
            "\u001b[?25hRequirement already satisfied: pandas in /usr/local/lib/python3.10/dist-packages (from datasets) (2.0.3)\n",
            "Requirement already satisfied: requests>=2.19.0 in /usr/local/lib/python3.10/dist-packages (from datasets) (2.31.0)\n",
            "Requirement already satisfied: tqdm>=4.62.1 in /usr/local/lib/python3.10/dist-packages (from datasets) (4.66.2)\n",
            "Collecting xxhash (from datasets)\n",
            "  Downloading xxhash-3.4.1-cp310-cp310-manylinux_2_17_x86_64.manylinux2014_x86_64.whl (194 kB)\n",
            "\u001b[2K     \u001b[90m━━━━━━━━━━━━━━━━━━━━━━━━━━━━━━━━━━━━━━━━\u001b[0m \u001b[32m194.1/194.1 kB\u001b[0m \u001b[31m4.3 MB/s\u001b[0m eta \u001b[36m0:00:00\u001b[0m\n",
            "\u001b[?25hCollecting multiprocess (from datasets)\n",
            "  Downloading multiprocess-0.70.16-py310-none-any.whl (134 kB)\n",
            "\u001b[2K     \u001b[90m━━━━━━━━━━━━━━━━━━━━━━━━━━━━━━━━━━━━━━━━\u001b[0m \u001b[32m134.8/134.8 kB\u001b[0m \u001b[31m5.7 MB/s\u001b[0m eta \u001b[36m0:00:00\u001b[0m\n",
            "\u001b[?25hRequirement already satisfied: fsspec[http]<=2024.2.0,>=2023.1.0 in /usr/local/lib/python3.10/dist-packages (from datasets) (2023.6.0)\n",
            "Requirement already satisfied: aiohttp in /usr/local/lib/python3.10/dist-packages (from datasets) (3.9.3)\n",
            "Requirement already satisfied: huggingface-hub>=0.19.4 in /usr/local/lib/python3.10/dist-packages (from datasets) (0.20.3)\n",
            "Requirement already satisfied: packaging in /usr/local/lib/python3.10/dist-packages (from datasets) (24.0)\n",
            "Requirement already satisfied: pyyaml>=5.1 in /usr/local/lib/python3.10/dist-packages (from datasets) (6.0.1)\n",
            "Requirement already satisfied: typing-extensions>=4.8.0 in /usr/local/lib/python3.10/dist-packages (from torch) (4.11.0)\n",
            "Requirement already satisfied: sympy in /usr/local/lib/python3.10/dist-packages (from torch) (1.12)\n",
            "Requirement already satisfied: networkx in /usr/local/lib/python3.10/dist-packages (from torch) (3.3)\n",
            "Requirement already satisfied: jinja2 in /usr/local/lib/python3.10/dist-packages (from torch) (3.1.3)\n",
            "Collecting nvidia-cuda-nvrtc-cu12==12.1.105 (from torch)\n",
            "  Using cached nvidia_cuda_nvrtc_cu12-12.1.105-py3-none-manylinux1_x86_64.whl (23.7 MB)\n",
            "Collecting nvidia-cuda-runtime-cu12==12.1.105 (from torch)\n",
            "  Using cached nvidia_cuda_runtime_cu12-12.1.105-py3-none-manylinux1_x86_64.whl (823 kB)\n",
            "Collecting nvidia-cuda-cupti-cu12==12.1.105 (from torch)\n",
            "  Using cached nvidia_cuda_cupti_cu12-12.1.105-py3-none-manylinux1_x86_64.whl (14.1 MB)\n",
            "Collecting nvidia-cudnn-cu12==8.9.2.26 (from torch)\n",
            "  Using cached nvidia_cudnn_cu12-8.9.2.26-py3-none-manylinux1_x86_64.whl (731.7 MB)\n",
            "Collecting nvidia-cublas-cu12==12.1.3.1 (from torch)\n",
            "  Using cached nvidia_cublas_cu12-12.1.3.1-py3-none-manylinux1_x86_64.whl (410.6 MB)\n",
            "Collecting nvidia-cufft-cu12==11.0.2.54 (from torch)\n",
            "  Using cached nvidia_cufft_cu12-11.0.2.54-py3-none-manylinux1_x86_64.whl (121.6 MB)\n",
            "Collecting nvidia-curand-cu12==10.3.2.106 (from torch)\n",
            "  Using cached nvidia_curand_cu12-10.3.2.106-py3-none-manylinux1_x86_64.whl (56.5 MB)\n",
            "Collecting nvidia-cusolver-cu12==11.4.5.107 (from torch)\n",
            "  Using cached nvidia_cusolver_cu12-11.4.5.107-py3-none-manylinux1_x86_64.whl (124.2 MB)\n",
            "Collecting nvidia-cusparse-cu12==12.1.0.106 (from torch)\n",
            "  Using cached nvidia_cusparse_cu12-12.1.0.106-py3-none-manylinux1_x86_64.whl (196.0 MB)\n",
            "Collecting nvidia-nccl-cu12==2.19.3 (from torch)\n",
            "  Using cached nvidia_nccl_cu12-2.19.3-py3-none-manylinux1_x86_64.whl (166.0 MB)\n",
            "Collecting nvidia-nvtx-cu12==12.1.105 (from torch)\n",
            "  Using cached nvidia_nvtx_cu12-12.1.105-py3-none-manylinux1_x86_64.whl (99 kB)\n",
            "Requirement already satisfied: triton==2.2.0 in /usr/local/lib/python3.10/dist-packages (from torch) (2.2.0)\n",
            "Collecting nvidia-nvjitlink-cu12 (from nvidia-cusolver-cu12==11.4.5.107->torch)\n",
            "  Using cached nvidia_nvjitlink_cu12-12.4.127-py3-none-manylinux2014_x86_64.whl (21.1 MB)\n",
            "Requirement already satisfied: click in /usr/local/lib/python3.10/dist-packages (from nltk) (8.1.7)\n",
            "Requirement already satisfied: joblib in /usr/local/lib/python3.10/dist-packages (from nltk) (1.4.0)\n",
            "Requirement already satisfied: regex>=2021.8.3 in /usr/local/lib/python3.10/dist-packages (from nltk) (2023.12.25)\n",
            "Requirement already satisfied: contourpy>=1.0.1 in /usr/local/lib/python3.10/dist-packages (from matplotlib) (1.2.1)\n",
            "Requirement already satisfied: cycler>=0.10 in /usr/local/lib/python3.10/dist-packages (from matplotlib) (0.12.1)\n",
            "Requirement already satisfied: fonttools>=4.22.0 in /usr/local/lib/python3.10/dist-packages (from matplotlib) (4.51.0)\n",
            "Requirement already satisfied: kiwisolver>=1.0.1 in /usr/local/lib/python3.10/dist-packages (from matplotlib) (1.4.5)\n",
            "Requirement already satisfied: pillow>=6.2.0 in /usr/local/lib/python3.10/dist-packages (from matplotlib) (9.4.0)\n",
            "Requirement already satisfied: pyparsing>=2.3.1 in /usr/local/lib/python3.10/dist-packages (from matplotlib) (3.1.2)\n",
            "Requirement already satisfied: python-dateutil>=2.7 in /usr/local/lib/python3.10/dist-packages (from matplotlib) (2.8.2)\n",
            "Requirement already satisfied: aiosignal>=1.1.2 in /usr/local/lib/python3.10/dist-packages (from aiohttp->datasets) (1.3.1)\n",
            "Requirement already satisfied: attrs>=17.3.0 in /usr/local/lib/python3.10/dist-packages (from aiohttp->datasets) (23.2.0)\n",
            "Requirement already satisfied: frozenlist>=1.1.1 in /usr/local/lib/python3.10/dist-packages (from aiohttp->datasets) (1.4.1)\n",
            "Requirement already satisfied: multidict<7.0,>=4.5 in /usr/local/lib/python3.10/dist-packages (from aiohttp->datasets) (6.0.5)\n",
            "Requirement already satisfied: yarl<2.0,>=1.0 in /usr/local/lib/python3.10/dist-packages (from aiohttp->datasets) (1.9.4)\n",
            "Requirement already satisfied: async-timeout<5.0,>=4.0 in /usr/local/lib/python3.10/dist-packages (from aiohttp->datasets) (4.0.3)\n",
            "Requirement already satisfied: pytz>=2020.1 in /usr/local/lib/python3.10/dist-packages (from pandas->datasets) (2023.4)\n",
            "Requirement already satisfied: tzdata>=2022.1 in /usr/local/lib/python3.10/dist-packages (from pandas->datasets) (2024.1)\n",
            "Requirement already satisfied: six>=1.5 in /usr/local/lib/python3.10/dist-packages (from python-dateutil>=2.7->matplotlib) (1.16.0)\n",
            "Requirement already satisfied: charset-normalizer<4,>=2 in /usr/local/lib/python3.10/dist-packages (from requests>=2.19.0->datasets) (3.3.2)\n",
            "Requirement already satisfied: idna<4,>=2.5 in /usr/local/lib/python3.10/dist-packages (from requests>=2.19.0->datasets) (3.6)\n",
            "Requirement already satisfied: urllib3<3,>=1.21.1 in /usr/local/lib/python3.10/dist-packages (from requests>=2.19.0->datasets) (2.0.7)\n",
            "Requirement already satisfied: certifi>=2017.4.17 in /usr/local/lib/python3.10/dist-packages (from requests>=2.19.0->datasets) (2024.2.2)\n",
            "Requirement already satisfied: MarkupSafe>=2.0 in /usr/local/lib/python3.10/dist-packages (from jinja2->torch) (2.1.5)\n",
            "Requirement already satisfied: mpmath>=0.19 in /usr/local/lib/python3.10/dist-packages (from sympy->torch) (1.3.0)\n",
            "Installing collected packages: xxhash, python-dotenv, nvidia-nvtx-cu12, nvidia-nvjitlink-cu12, nvidia-nccl-cu12, nvidia-curand-cu12, nvidia-cufft-cu12, nvidia-cuda-runtime-cu12, nvidia-cuda-nvrtc-cu12, nvidia-cuda-cupti-cu12, nvidia-cublas-cu12, dill, nvidia-cusparse-cu12, nvidia-cudnn-cu12, multiprocess, nvidia-cusolver-cu12, datasets\n",
            "Successfully installed datasets-2.18.0 dill-0.3.8 multiprocess-0.70.16 nvidia-cublas-cu12-12.1.3.1 nvidia-cuda-cupti-cu12-12.1.105 nvidia-cuda-nvrtc-cu12-12.1.105 nvidia-cuda-runtime-cu12-12.1.105 nvidia-cudnn-cu12-8.9.2.26 nvidia-cufft-cu12-11.0.2.54 nvidia-curand-cu12-10.3.2.106 nvidia-cusolver-cu12-11.4.5.107 nvidia-cusparse-cu12-12.1.0.106 nvidia-nccl-cu12-2.19.3 nvidia-nvjitlink-cu12-12.4.127 nvidia-nvtx-cu12-12.1.105 python-dotenv-1.0.1 xxhash-3.4.1\n"
          ]
        }
      ],
      "source": [
        "!pip install datasets torch nltk seaborn matplotlib python-dotenv"
      ]
    },
    {
      "cell_type": "code",
      "source": [
        "!pip install -U transformers"
      ],
      "metadata": {
        "colab": {
          "base_uri": "https://localhost:8080/"
        },
        "id": "-JwOEuYofEs7",
        "outputId": "ba92decc-1698-41c2-d388-41d3d3abfd8e"
      },
      "execution_count": 7,
      "outputs": [
        {
          "output_type": "stream",
          "name": "stdout",
          "text": [
            "Requirement already satisfied: transformers in /usr/local/lib/python3.10/dist-packages (4.38.2)\n",
            "Collecting transformers\n",
            "  Downloading transformers-4.39.3-py3-none-any.whl (8.8 MB)\n",
            "\u001b[2K     \u001b[90m━━━━━━━━━━━━━━━━━━━━━━━━━━━━━━━━━━━━━━━━\u001b[0m \u001b[32m8.8/8.8 MB\u001b[0m \u001b[31m17.8 MB/s\u001b[0m eta \u001b[36m0:00:00\u001b[0m\n",
            "\u001b[?25hRequirement already satisfied: filelock in /usr/local/lib/python3.10/dist-packages (from transformers) (3.13.4)\n",
            "Requirement already satisfied: huggingface-hub<1.0,>=0.19.3 in /usr/local/lib/python3.10/dist-packages (from transformers) (0.20.3)\n",
            "Requirement already satisfied: numpy>=1.17 in /usr/local/lib/python3.10/dist-packages (from transformers) (1.25.2)\n",
            "Requirement already satisfied: packaging>=20.0 in /usr/local/lib/python3.10/dist-packages (from transformers) (24.0)\n",
            "Requirement already satisfied: pyyaml>=5.1 in /usr/local/lib/python3.10/dist-packages (from transformers) (6.0.1)\n",
            "Requirement already satisfied: regex!=2019.12.17 in /usr/local/lib/python3.10/dist-packages (from transformers) (2023.12.25)\n",
            "Requirement already satisfied: requests in /usr/local/lib/python3.10/dist-packages (from transformers) (2.31.0)\n",
            "Requirement already satisfied: tokenizers<0.19,>=0.14 in /usr/local/lib/python3.10/dist-packages (from transformers) (0.15.2)\n",
            "Requirement already satisfied: safetensors>=0.4.1 in /usr/local/lib/python3.10/dist-packages (from transformers) (0.4.2)\n",
            "Requirement already satisfied: tqdm>=4.27 in /usr/local/lib/python3.10/dist-packages (from transformers) (4.66.2)\n",
            "Requirement already satisfied: fsspec>=2023.5.0 in /usr/local/lib/python3.10/dist-packages (from huggingface-hub<1.0,>=0.19.3->transformers) (2023.6.0)\n",
            "Requirement already satisfied: typing-extensions>=3.7.4.3 in /usr/local/lib/python3.10/dist-packages (from huggingface-hub<1.0,>=0.19.3->transformers) (4.11.0)\n",
            "Requirement already satisfied: charset-normalizer<4,>=2 in /usr/local/lib/python3.10/dist-packages (from requests->transformers) (3.3.2)\n",
            "Requirement already satisfied: idna<4,>=2.5 in /usr/local/lib/python3.10/dist-packages (from requests->transformers) (3.6)\n",
            "Requirement already satisfied: urllib3<3,>=1.21.1 in /usr/local/lib/python3.10/dist-packages (from requests->transformers) (2.0.7)\n",
            "Requirement already satisfied: certifi>=2017.4.17 in /usr/local/lib/python3.10/dist-packages (from requests->transformers) (2024.2.2)\n",
            "Installing collected packages: transformers\n",
            "  Attempting uninstall: transformers\n",
            "    Found existing installation: transformers 4.38.2\n",
            "    Uninstalling transformers-4.38.2:\n",
            "      Successfully uninstalled transformers-4.38.2\n",
            "Successfully installed transformers-4.39.3\n"
          ]
        }
      ]
    },
    {
      "cell_type": "code",
      "source": [
        "!pip install -q -U google-generativeai"
      ],
      "metadata": {
        "colab": {
          "base_uri": "https://localhost:8080/"
        },
        "id": "2aa5jy-oZ_4o",
        "outputId": "f0106a1f-8de6-4fa6-f467-da4c42543e23"
      },
      "execution_count": 2,
      "outputs": [
        {
          "output_type": "stream",
          "name": "stdout",
          "text": [
            "\u001b[2K     \u001b[90m━━━━━━━━━━━━━━━━━━━━━━━━━━━━━━━━━━━━━━━━\u001b[0m \u001b[32m142.1/142.1 kB\u001b[0m \u001b[31m2.9 MB/s\u001b[0m eta \u001b[36m0:00:00\u001b[0m\n",
            "\u001b[2K     \u001b[90m━━━━━━━━━━━━━━━━━━━━━━━━━━━━━━━━━━━━━━━━\u001b[0m \u001b[32m663.6/663.6 kB\u001b[0m \u001b[31m8.2 MB/s\u001b[0m eta \u001b[36m0:00:00\u001b[0m\n",
            "\u001b[?25h"
          ]
        }
      ]
    },
    {
      "cell_type": "code",
      "execution_count": 3,
      "metadata": {
        "colab": {
          "base_uri": "https://localhost:8080/"
        },
        "id": "b8YlnENKIqiC",
        "outputId": "33598853-13af-4c2b-e268-fd70e3a3f26b"
      },
      "outputs": [
        {
          "output_type": "stream",
          "name": "stdout",
          "text": [
            "Cloning into 'source'...\n",
            "remote: Enumerating objects: 61, done.\u001b[K\n",
            "remote: Counting objects: 100% (61/61), done.\u001b[K\n",
            "remote: Compressing objects: 100% (53/53), done.\u001b[K\n",
            "remote: Total 61 (delta 24), reused 23 (delta 6), pack-reused 0\u001b[K\n",
            "Receiving objects: 100% (61/61), 17.45 MiB | 22.87 MiB/s, done.\n",
            "Resolving deltas: 100% (24/24), done.\n",
            "Archive:  source/data/tasks_1-20_v1-2.zip\n",
            "  inflating: data/tasks_1-20_v1-2/LICENSE.txt  \n",
            "  inflating: data/tasks_1-20_v1-2/README.txt  \n",
            "  inflating: data/tasks_1-20_v1-2/en-10k/qa10_indefinite-knowledge_test.txt  \n",
            "  inflating: data/tasks_1-20_v1-2/en-10k/qa10_indefinite-knowledge_train.txt  \n",
            "  inflating: data/tasks_1-20_v1-2/en-10k/qa11_basic-coreference_test.txt  \n",
            "  inflating: data/tasks_1-20_v1-2/en-10k/qa11_basic-coreference_train.txt  \n",
            "  inflating: data/tasks_1-20_v1-2/en-10k/qa12_conjunction_test.txt  \n",
            "  inflating: data/tasks_1-20_v1-2/en-10k/qa12_conjunction_train.txt  \n",
            "  inflating: data/tasks_1-20_v1-2/en-10k/qa13_compound-coreference_test.txt  \n",
            "  inflating: data/tasks_1-20_v1-2/en-10k/qa13_compound-coreference_train.txt  \n",
            "  inflating: data/tasks_1-20_v1-2/en-10k/qa14_time-reasoning_test.txt  \n",
            "  inflating: data/tasks_1-20_v1-2/en-10k/qa14_time-reasoning_train.txt  \n",
            "  inflating: data/tasks_1-20_v1-2/en-10k/qa15_basic-deduction_test.txt  \n",
            "  inflating: data/tasks_1-20_v1-2/en-10k/qa15_basic-deduction_train.txt  \n",
            "  inflating: data/tasks_1-20_v1-2/en-10k/qa16_basic-induction_test.txt  \n",
            "  inflating: data/tasks_1-20_v1-2/en-10k/qa16_basic-induction_train.txt  \n",
            "  inflating: data/tasks_1-20_v1-2/en-10k/qa17_positional-reasoning_test.txt  \n",
            "  inflating: data/tasks_1-20_v1-2/en-10k/qa17_positional-reasoning_train.txt  \n",
            "  inflating: data/tasks_1-20_v1-2/en-10k/qa18_size-reasoning_test.txt  \n",
            "  inflating: data/tasks_1-20_v1-2/en-10k/qa18_size-reasoning_train.txt  \n",
            "  inflating: data/tasks_1-20_v1-2/en-10k/qa19_path-finding_test.txt  \n",
            "  inflating: data/tasks_1-20_v1-2/en-10k/qa19_path-finding_train.txt  \n",
            "  inflating: data/tasks_1-20_v1-2/en-10k/qa1_single-supporting-fact_test.txt  \n",
            "  inflating: data/tasks_1-20_v1-2/en-10k/qa1_single-supporting-fact_train.txt  \n",
            "  inflating: data/tasks_1-20_v1-2/en-10k/qa20_agents-motivations_test.txt  \n",
            "  inflating: data/tasks_1-20_v1-2/en-10k/qa20_agents-motivations_train.txt  \n",
            "  inflating: data/tasks_1-20_v1-2/en-10k/qa2_two-supporting-facts_test.txt  \n",
            "  inflating: data/tasks_1-20_v1-2/en-10k/qa2_two-supporting-facts_train.txt  \n",
            "  inflating: data/tasks_1-20_v1-2/en-10k/qa3_three-supporting-facts_test.txt  \n",
            "  inflating: data/tasks_1-20_v1-2/en-10k/qa3_three-supporting-facts_train.txt  \n",
            "  inflating: data/tasks_1-20_v1-2/en-10k/qa4_two-arg-relations_test.txt  \n",
            "  inflating: data/tasks_1-20_v1-2/en-10k/qa4_two-arg-relations_train.txt  \n",
            "  inflating: data/tasks_1-20_v1-2/en-10k/qa5_three-arg-relations_test.txt  \n",
            "  inflating: data/tasks_1-20_v1-2/en-10k/qa5_three-arg-relations_train.txt  \n",
            "  inflating: data/tasks_1-20_v1-2/en-10k/qa6_yes-no-questions_test.txt  \n",
            "  inflating: data/tasks_1-20_v1-2/en-10k/qa6_yes-no-questions_train.txt  \n",
            "  inflating: data/tasks_1-20_v1-2/en-10k/qa7_counting_test.txt  \n",
            "  inflating: data/tasks_1-20_v1-2/en-10k/qa7_counting_train.txt  \n",
            "  inflating: data/tasks_1-20_v1-2/en-10k/qa8_lists-sets_test.txt  \n",
            "  inflating: data/tasks_1-20_v1-2/en-10k/qa8_lists-sets_train.txt  \n",
            "  inflating: data/tasks_1-20_v1-2/en-10k/qa9_simple-negation_test.txt  \n",
            "  inflating: data/tasks_1-20_v1-2/en-10k/qa9_simple-negation_train.txt  \n",
            "  inflating: data/tasks_1-20_v1-2/en-valid-10k/qa10_test.txt  \n",
            "  inflating: data/tasks_1-20_v1-2/en-valid-10k/qa10_train.txt  \n",
            "  inflating: data/tasks_1-20_v1-2/en-valid-10k/qa10_valid.txt  \n",
            "  inflating: data/tasks_1-20_v1-2/en-valid-10k/qa11_test.txt  \n",
            "  inflating: data/tasks_1-20_v1-2/en-valid-10k/qa11_train.txt  \n",
            "  inflating: data/tasks_1-20_v1-2/en-valid-10k/qa11_valid.txt  \n",
            "  inflating: data/tasks_1-20_v1-2/en-valid-10k/qa12_test.txt  \n",
            "  inflating: data/tasks_1-20_v1-2/en-valid-10k/qa12_train.txt  \n",
            "  inflating: data/tasks_1-20_v1-2/en-valid-10k/qa12_valid.txt  \n",
            "  inflating: data/tasks_1-20_v1-2/en-valid-10k/qa13_test.txt  \n",
            "  inflating: data/tasks_1-20_v1-2/en-valid-10k/qa13_train.txt  \n",
            "  inflating: data/tasks_1-20_v1-2/en-valid-10k/qa13_valid.txt  \n",
            "  inflating: data/tasks_1-20_v1-2/en-valid-10k/qa14_test.txt  \n",
            "  inflating: data/tasks_1-20_v1-2/en-valid-10k/qa14_train.txt  \n",
            "  inflating: data/tasks_1-20_v1-2/en-valid-10k/qa14_valid.txt  \n",
            "  inflating: data/tasks_1-20_v1-2/en-valid-10k/qa15_test.txt  \n",
            "  inflating: data/tasks_1-20_v1-2/en-valid-10k/qa15_train.txt  \n",
            "  inflating: data/tasks_1-20_v1-2/en-valid-10k/qa15_valid.txt  \n",
            "  inflating: data/tasks_1-20_v1-2/en-valid-10k/qa16_test.txt  \n",
            "  inflating: data/tasks_1-20_v1-2/en-valid-10k/qa16_train.txt  \n",
            "  inflating: data/tasks_1-20_v1-2/en-valid-10k/qa16_valid.txt  \n",
            "  inflating: data/tasks_1-20_v1-2/en-valid-10k/qa17_test.txt  \n",
            "  inflating: data/tasks_1-20_v1-2/en-valid-10k/qa17_train.txt  \n",
            "  inflating: data/tasks_1-20_v1-2/en-valid-10k/qa17_valid.txt  \n",
            "  inflating: data/tasks_1-20_v1-2/en-valid-10k/qa18_test.txt  \n",
            "  inflating: data/tasks_1-20_v1-2/en-valid-10k/qa18_train.txt  \n",
            "  inflating: data/tasks_1-20_v1-2/en-valid-10k/qa18_valid.txt  \n",
            "  inflating: data/tasks_1-20_v1-2/en-valid-10k/qa19_test.txt  \n",
            "  inflating: data/tasks_1-20_v1-2/en-valid-10k/qa19_train.txt  \n",
            "  inflating: data/tasks_1-20_v1-2/en-valid-10k/qa19_valid.txt  \n",
            "  inflating: data/tasks_1-20_v1-2/en-valid-10k/qa1_test.txt  \n",
            "  inflating: data/tasks_1-20_v1-2/en-valid-10k/qa1_train.txt  \n",
            "  inflating: data/tasks_1-20_v1-2/en-valid-10k/qa1_valid.txt  \n",
            "  inflating: data/tasks_1-20_v1-2/en-valid-10k/qa20_test.txt  \n",
            "  inflating: data/tasks_1-20_v1-2/en-valid-10k/qa20_train.txt  \n",
            "  inflating: data/tasks_1-20_v1-2/en-valid-10k/qa20_valid.txt  \n",
            "  inflating: data/tasks_1-20_v1-2/en-valid-10k/qa2_test.txt  \n",
            "  inflating: data/tasks_1-20_v1-2/en-valid-10k/qa2_train.txt  \n",
            "  inflating: data/tasks_1-20_v1-2/en-valid-10k/qa2_valid.txt  \n",
            "  inflating: data/tasks_1-20_v1-2/en-valid-10k/qa3_test.txt  \n",
            "  inflating: data/tasks_1-20_v1-2/en-valid-10k/qa3_train.txt  \n",
            "  inflating: data/tasks_1-20_v1-2/en-valid-10k/qa3_valid.txt  \n",
            "  inflating: data/tasks_1-20_v1-2/en-valid-10k/qa4_test.txt  \n",
            "  inflating: data/tasks_1-20_v1-2/en-valid-10k/qa4_train.txt  \n",
            "  inflating: data/tasks_1-20_v1-2/en-valid-10k/qa4_valid.txt  \n",
            "  inflating: data/tasks_1-20_v1-2/en-valid-10k/qa5_test.txt  \n",
            "  inflating: data/tasks_1-20_v1-2/en-valid-10k/qa5_train.txt  \n",
            "  inflating: data/tasks_1-20_v1-2/en-valid-10k/qa5_valid.txt  \n",
            "  inflating: data/tasks_1-20_v1-2/en-valid-10k/qa6_test.txt  \n",
            "  inflating: data/tasks_1-20_v1-2/en-valid-10k/qa6_train.txt  \n",
            "  inflating: data/tasks_1-20_v1-2/en-valid-10k/qa6_valid.txt  \n",
            "  inflating: data/tasks_1-20_v1-2/en-valid-10k/qa7_test.txt  \n",
            "  inflating: data/tasks_1-20_v1-2/en-valid-10k/qa7_train.txt  \n",
            "  inflating: data/tasks_1-20_v1-2/en-valid-10k/qa7_valid.txt  \n",
            "  inflating: data/tasks_1-20_v1-2/en-valid-10k/qa8_test.txt  \n",
            "  inflating: data/tasks_1-20_v1-2/en-valid-10k/qa8_train.txt  \n",
            "  inflating: data/tasks_1-20_v1-2/en-valid-10k/qa8_valid.txt  \n",
            "  inflating: data/tasks_1-20_v1-2/en-valid-10k/qa9_test.txt  \n",
            "  inflating: data/tasks_1-20_v1-2/en-valid-10k/qa9_train.txt  \n",
            "  inflating: data/tasks_1-20_v1-2/en-valid-10k/qa9_valid.txt  \n",
            "  inflating: data/tasks_1-20_v1-2/en-valid/qa10_test.txt  \n",
            "  inflating: data/tasks_1-20_v1-2/en-valid/qa10_train.txt  \n",
            "  inflating: data/tasks_1-20_v1-2/en-valid/qa10_valid.txt  \n",
            "  inflating: data/tasks_1-20_v1-2/en-valid/qa11_test.txt  \n",
            "  inflating: data/tasks_1-20_v1-2/en-valid/qa11_train.txt  \n",
            "  inflating: data/tasks_1-20_v1-2/en-valid/qa11_valid.txt  \n",
            "  inflating: data/tasks_1-20_v1-2/en-valid/qa12_test.txt  \n",
            "  inflating: data/tasks_1-20_v1-2/en-valid/qa12_train.txt  \n",
            "  inflating: data/tasks_1-20_v1-2/en-valid/qa12_valid.txt  \n",
            "  inflating: data/tasks_1-20_v1-2/en-valid/qa13_test.txt  \n",
            "  inflating: data/tasks_1-20_v1-2/en-valid/qa13_train.txt  \n",
            "  inflating: data/tasks_1-20_v1-2/en-valid/qa13_valid.txt  \n",
            "  inflating: data/tasks_1-20_v1-2/en-valid/qa14_test.txt  \n",
            "  inflating: data/tasks_1-20_v1-2/en-valid/qa14_train.txt  \n",
            "  inflating: data/tasks_1-20_v1-2/en-valid/qa14_valid.txt  \n",
            "  inflating: data/tasks_1-20_v1-2/en-valid/qa15_test.txt  \n",
            "  inflating: data/tasks_1-20_v1-2/en-valid/qa15_train.txt  \n",
            "  inflating: data/tasks_1-20_v1-2/en-valid/qa15_valid.txt  \n",
            "  inflating: data/tasks_1-20_v1-2/en-valid/qa16_test.txt  \n",
            "  inflating: data/tasks_1-20_v1-2/en-valid/qa16_train.txt  \n",
            "  inflating: data/tasks_1-20_v1-2/en-valid/qa16_valid.txt  \n",
            "  inflating: data/tasks_1-20_v1-2/en-valid/qa17_test.txt  \n",
            "  inflating: data/tasks_1-20_v1-2/en-valid/qa17_train.txt  \n",
            "  inflating: data/tasks_1-20_v1-2/en-valid/qa17_valid.txt  \n",
            "  inflating: data/tasks_1-20_v1-2/en-valid/qa18_test.txt  \n",
            "  inflating: data/tasks_1-20_v1-2/en-valid/qa18_train.txt  \n",
            "  inflating: data/tasks_1-20_v1-2/en-valid/qa18_valid.txt  \n",
            "  inflating: data/tasks_1-20_v1-2/en-valid/qa19_test.txt  \n",
            "  inflating: data/tasks_1-20_v1-2/en-valid/qa19_train.txt  \n",
            "  inflating: data/tasks_1-20_v1-2/en-valid/qa19_valid.txt  \n",
            "  inflating: data/tasks_1-20_v1-2/en-valid/qa1_test.txt  \n",
            "  inflating: data/tasks_1-20_v1-2/en-valid/qa1_train.txt  \n",
            "  inflating: data/tasks_1-20_v1-2/en-valid/qa1_valid.txt  \n",
            "  inflating: data/tasks_1-20_v1-2/en-valid/qa20_test.txt  \n",
            "  inflating: data/tasks_1-20_v1-2/en-valid/qa20_train.txt  \n",
            "  inflating: data/tasks_1-20_v1-2/en-valid/qa20_valid.txt  \n",
            "  inflating: data/tasks_1-20_v1-2/en-valid/qa2_test.txt  \n",
            "  inflating: data/tasks_1-20_v1-2/en-valid/qa2_train.txt  \n",
            "  inflating: data/tasks_1-20_v1-2/en-valid/qa2_valid.txt  \n",
            "  inflating: data/tasks_1-20_v1-2/en-valid/qa3_test.txt  \n",
            "  inflating: data/tasks_1-20_v1-2/en-valid/qa3_train.txt  \n",
            "  inflating: data/tasks_1-20_v1-2/en-valid/qa3_valid.txt  \n",
            "  inflating: data/tasks_1-20_v1-2/en-valid/qa4_test.txt  \n",
            "  inflating: data/tasks_1-20_v1-2/en-valid/qa4_train.txt  \n",
            "  inflating: data/tasks_1-20_v1-2/en-valid/qa4_valid.txt  \n",
            "  inflating: data/tasks_1-20_v1-2/en-valid/qa5_test.txt  \n",
            "  inflating: data/tasks_1-20_v1-2/en-valid/qa5_train.txt  \n",
            "  inflating: data/tasks_1-20_v1-2/en-valid/qa5_valid.txt  \n",
            "  inflating: data/tasks_1-20_v1-2/en-valid/qa6_test.txt  \n",
            "  inflating: data/tasks_1-20_v1-2/en-valid/qa6_train.txt  \n",
            "  inflating: data/tasks_1-20_v1-2/en-valid/qa6_valid.txt  \n",
            "  inflating: data/tasks_1-20_v1-2/en-valid/qa7_test.txt  \n",
            "  inflating: data/tasks_1-20_v1-2/en-valid/qa7_train.txt  \n",
            "  inflating: data/tasks_1-20_v1-2/en-valid/qa7_valid.txt  \n",
            "  inflating: data/tasks_1-20_v1-2/en-valid/qa8_test.txt  \n",
            "  inflating: data/tasks_1-20_v1-2/en-valid/qa8_train.txt  \n",
            "  inflating: data/tasks_1-20_v1-2/en-valid/qa8_valid.txt  \n",
            "  inflating: data/tasks_1-20_v1-2/en-valid/qa9_test.txt  \n",
            "  inflating: data/tasks_1-20_v1-2/en-valid/qa9_train.txt  \n",
            "  inflating: data/tasks_1-20_v1-2/en-valid/qa9_valid.txt  \n",
            "  inflating: data/tasks_1-20_v1-2/en/qa10_indefinite-knowledge_test.txt  \n",
            "  inflating: data/tasks_1-20_v1-2/en/qa10_indefinite-knowledge_train.txt  \n",
            "  inflating: data/tasks_1-20_v1-2/en/qa11_basic-coreference_test.txt  \n",
            "  inflating: data/tasks_1-20_v1-2/en/qa11_basic-coreference_train.txt  \n",
            "  inflating: data/tasks_1-20_v1-2/en/qa12_conjunction_test.txt  \n",
            "  inflating: data/tasks_1-20_v1-2/en/qa12_conjunction_train.txt  \n",
            "  inflating: data/tasks_1-20_v1-2/en/qa13_compound-coreference_test.txt  \n",
            "  inflating: data/tasks_1-20_v1-2/en/qa13_compound-coreference_train.txt  \n",
            "  inflating: data/tasks_1-20_v1-2/en/qa14_time-reasoning_test.txt  \n",
            "  inflating: data/tasks_1-20_v1-2/en/qa14_time-reasoning_train.txt  \n",
            "  inflating: data/tasks_1-20_v1-2/en/qa15_basic-deduction_test.txt  \n",
            "  inflating: data/tasks_1-20_v1-2/en/qa15_basic-deduction_train.txt  \n",
            "  inflating: data/tasks_1-20_v1-2/en/qa16_basic-induction_test.txt  \n",
            "  inflating: data/tasks_1-20_v1-2/en/qa16_basic-induction_train.txt  \n",
            "  inflating: data/tasks_1-20_v1-2/en/qa17_positional-reasoning_test.txt  \n",
            "  inflating: data/tasks_1-20_v1-2/en/qa17_positional-reasoning_train.txt  \n",
            "  inflating: data/tasks_1-20_v1-2/en/qa18_size-reasoning_test.txt  \n",
            "  inflating: data/tasks_1-20_v1-2/en/qa18_size-reasoning_train.txt  \n",
            "  inflating: data/tasks_1-20_v1-2/en/qa19_path-finding_test.txt  \n",
            "  inflating: data/tasks_1-20_v1-2/en/qa19_path-finding_train.txt  \n",
            "  inflating: data/tasks_1-20_v1-2/en/qa1_single-supporting-fact_test.txt  \n",
            "  inflating: data/tasks_1-20_v1-2/en/qa1_single-supporting-fact_train.txt  \n",
            "  inflating: data/tasks_1-20_v1-2/en/qa20_agents-motivations_test.txt  \n",
            "  inflating: data/tasks_1-20_v1-2/en/qa20_agents-motivations_train.txt  \n",
            "  inflating: data/tasks_1-20_v1-2/en/qa2_two-supporting-facts_test.txt  \n",
            "  inflating: data/tasks_1-20_v1-2/en/qa2_two-supporting-facts_train.txt  \n",
            "  inflating: data/tasks_1-20_v1-2/en/qa3_three-supporting-facts_test.txt  \n",
            "  inflating: data/tasks_1-20_v1-2/en/qa3_three-supporting-facts_train.txt  \n",
            "  inflating: data/tasks_1-20_v1-2/en/qa4_two-arg-relations_test.txt  \n",
            "  inflating: data/tasks_1-20_v1-2/en/qa4_two-arg-relations_train.txt  \n",
            "  inflating: data/tasks_1-20_v1-2/en/qa5_three-arg-relations_test.txt  \n",
            "  inflating: data/tasks_1-20_v1-2/en/qa5_three-arg-relations_train.txt  \n",
            "  inflating: data/tasks_1-20_v1-2/en/qa6_yes-no-questions_test.txt  \n",
            "  inflating: data/tasks_1-20_v1-2/en/qa6_yes-no-questions_train.txt  \n",
            "  inflating: data/tasks_1-20_v1-2/en/qa7_counting_test.txt  \n",
            "  inflating: data/tasks_1-20_v1-2/en/qa7_counting_train.txt  \n",
            "  inflating: data/tasks_1-20_v1-2/en/qa8_lists-sets_test.txt  \n",
            "  inflating: data/tasks_1-20_v1-2/en/qa8_lists-sets_train.txt  \n",
            "  inflating: data/tasks_1-20_v1-2/en/qa9_simple-negation_test.txt  \n",
            "  inflating: data/tasks_1-20_v1-2/en/qa9_simple-negation_train.txt  \n",
            "  inflating: data/tasks_1-20_v1-2/hn-10k/qa10_indefinite-knowledge_test.txt  \n",
            "  inflating: data/tasks_1-20_v1-2/hn-10k/qa10_indefinite-knowledge_train.txt  \n",
            "  inflating: data/tasks_1-20_v1-2/hn-10k/qa11_basic-coreference_test.txt  \n",
            "  inflating: data/tasks_1-20_v1-2/hn-10k/qa11_basic-coreference_train.txt  \n",
            "  inflating: data/tasks_1-20_v1-2/hn-10k/qa12_conjunction_test.txt  \n",
            "  inflating: data/tasks_1-20_v1-2/hn-10k/qa12_conjunction_train.txt  \n",
            "  inflating: data/tasks_1-20_v1-2/hn-10k/qa13_compound-coreference_test.txt  \n",
            "  inflating: data/tasks_1-20_v1-2/hn-10k/qa13_compound-coreference_train.txt  \n",
            "  inflating: data/tasks_1-20_v1-2/hn-10k/qa14_time-reasoning_test.txt  \n",
            "  inflating: data/tasks_1-20_v1-2/hn-10k/qa14_time-reasoning_train.txt  \n",
            "  inflating: data/tasks_1-20_v1-2/hn-10k/qa15_basic-deduction_test.txt  \n",
            "  inflating: data/tasks_1-20_v1-2/hn-10k/qa15_basic-deduction_train.txt  \n",
            "  inflating: data/tasks_1-20_v1-2/hn-10k/qa16_basic-induction_test.txt  \n",
            "  inflating: data/tasks_1-20_v1-2/hn-10k/qa16_basic-induction_train.txt  \n",
            "  inflating: data/tasks_1-20_v1-2/hn-10k/qa17_positional-reasoning_test.txt  \n",
            "  inflating: data/tasks_1-20_v1-2/hn-10k/qa17_positional-reasoning_train.txt  \n",
            "  inflating: data/tasks_1-20_v1-2/hn-10k/qa18_size-reasoning_test.txt  \n",
            "  inflating: data/tasks_1-20_v1-2/hn-10k/qa18_size-reasoning_train.txt  \n",
            "  inflating: data/tasks_1-20_v1-2/hn-10k/qa19_path-finding_test.txt  \n",
            "  inflating: data/tasks_1-20_v1-2/hn-10k/qa19_path-finding_train.txt  \n",
            "  inflating: data/tasks_1-20_v1-2/hn-10k/qa1_single-supporting-fact_test.txt  \n",
            "  inflating: data/tasks_1-20_v1-2/hn-10k/qa1_single-supporting-fact_train.txt  \n",
            "  inflating: data/tasks_1-20_v1-2/hn-10k/qa20_agents-motivations_test.txt  \n",
            "  inflating: data/tasks_1-20_v1-2/hn-10k/qa20_agents-motivations_train.txt  \n",
            "  inflating: data/tasks_1-20_v1-2/hn-10k/qa2_two-supporting-facts_test.txt  \n",
            "  inflating: data/tasks_1-20_v1-2/hn-10k/qa2_two-supporting-facts_train.txt  \n",
            "  inflating: data/tasks_1-20_v1-2/hn-10k/qa3_three-supporting-facts_test.txt  \n",
            "  inflating: data/tasks_1-20_v1-2/hn-10k/qa3_three-supporting-facts_train.txt  \n",
            "  inflating: data/tasks_1-20_v1-2/hn-10k/qa4_two-arg-relations_test.txt  \n",
            "  inflating: data/tasks_1-20_v1-2/hn-10k/qa4_two-arg-relations_train.txt  \n",
            "  inflating: data/tasks_1-20_v1-2/hn-10k/qa5_three-arg-relations_test.txt  \n",
            "  inflating: data/tasks_1-20_v1-2/hn-10k/qa5_three-arg-relations_train.txt  \n",
            "  inflating: data/tasks_1-20_v1-2/hn-10k/qa6_yes-no-questions_test.txt  \n",
            "  inflating: data/tasks_1-20_v1-2/hn-10k/qa6_yes-no-questions_train.txt  \n",
            "  inflating: data/tasks_1-20_v1-2/hn-10k/qa7_counting_test.txt  \n",
            "  inflating: data/tasks_1-20_v1-2/hn-10k/qa7_counting_train.txt  \n",
            "  inflating: data/tasks_1-20_v1-2/hn-10k/qa8_lists-sets_test.txt  \n",
            "  inflating: data/tasks_1-20_v1-2/hn-10k/qa8_lists-sets_train.txt  \n",
            "  inflating: data/tasks_1-20_v1-2/hn-10k/qa9_simple-negation_test.txt  \n",
            "  inflating: data/tasks_1-20_v1-2/hn-10k/qa9_simple-negation_train.txt  \n",
            "  inflating: data/tasks_1-20_v1-2/hn/qa10_indefinite-knowledge_test.txt  \n",
            "  inflating: data/tasks_1-20_v1-2/hn/qa10_indefinite-knowledge_train.txt  \n",
            "  inflating: data/tasks_1-20_v1-2/hn/qa11_basic-coreference_test.txt  \n",
            "  inflating: data/tasks_1-20_v1-2/hn/qa11_basic-coreference_train.txt  \n",
            "  inflating: data/tasks_1-20_v1-2/hn/qa12_conjunction_test.txt  \n",
            "  inflating: data/tasks_1-20_v1-2/hn/qa12_conjunction_train.txt  \n",
            "  inflating: data/tasks_1-20_v1-2/hn/qa13_compound-coreference_test.txt  \n",
            "  inflating: data/tasks_1-20_v1-2/hn/qa13_compound-coreference_train.txt  \n",
            "  inflating: data/tasks_1-20_v1-2/hn/qa14_time-reasoning_test.txt  \n",
            "  inflating: data/tasks_1-20_v1-2/hn/qa14_time-reasoning_train.txt  \n",
            "  inflating: data/tasks_1-20_v1-2/hn/qa15_basic-deduction_test.txt  \n",
            "  inflating: data/tasks_1-20_v1-2/hn/qa15_basic-deduction_train.txt  \n",
            "  inflating: data/tasks_1-20_v1-2/hn/qa16_basic-induction_test.txt  \n",
            "  inflating: data/tasks_1-20_v1-2/hn/qa16_basic-induction_train.txt  \n",
            "  inflating: data/tasks_1-20_v1-2/hn/qa17_positional-reasoning_test.txt  \n",
            "  inflating: data/tasks_1-20_v1-2/hn/qa17_positional-reasoning_train.txt  \n",
            "  inflating: data/tasks_1-20_v1-2/hn/qa18_size-reasoning_test.txt  \n",
            "  inflating: data/tasks_1-20_v1-2/hn/qa18_size-reasoning_train.txt  \n",
            "  inflating: data/tasks_1-20_v1-2/hn/qa19_path-finding_test.txt  \n",
            "  inflating: data/tasks_1-20_v1-2/hn/qa19_path-finding_train.txt  \n",
            "  inflating: data/tasks_1-20_v1-2/hn/qa1_single-supporting-fact_test.txt  \n",
            "  inflating: data/tasks_1-20_v1-2/hn/qa1_single-supporting-fact_train.txt  \n",
            "  inflating: data/tasks_1-20_v1-2/hn/qa20_agents-motivations_test.txt  \n",
            "  inflating: data/tasks_1-20_v1-2/hn/qa20_agents-motivations_train.txt  \n",
            "  inflating: data/tasks_1-20_v1-2/hn/qa2_two-supporting-facts_test.txt  \n",
            "  inflating: data/tasks_1-20_v1-2/hn/qa2_two-supporting-facts_train.txt  \n",
            "  inflating: data/tasks_1-20_v1-2/hn/qa3_three-supporting-facts_test.txt  \n",
            "  inflating: data/tasks_1-20_v1-2/hn/qa3_three-supporting-facts_train.txt  \n",
            "  inflating: data/tasks_1-20_v1-2/hn/qa4_two-arg-relations_test.txt  \n",
            "  inflating: data/tasks_1-20_v1-2/hn/qa4_two-arg-relations_train.txt  \n",
            "  inflating: data/tasks_1-20_v1-2/hn/qa5_three-arg-relations_test.txt  \n",
            "  inflating: data/tasks_1-20_v1-2/hn/qa5_three-arg-relations_train.txt  \n",
            "  inflating: data/tasks_1-20_v1-2/hn/qa6_yes-no-questions_test.txt  \n",
            "  inflating: data/tasks_1-20_v1-2/hn/qa6_yes-no-questions_train.txt  \n",
            "  inflating: data/tasks_1-20_v1-2/hn/qa7_counting_test.txt  \n",
            "  inflating: data/tasks_1-20_v1-2/hn/qa7_counting_train.txt  \n",
            "  inflating: data/tasks_1-20_v1-2/hn/qa8_lists-sets_test.txt  \n",
            "  inflating: data/tasks_1-20_v1-2/hn/qa8_lists-sets_train.txt  \n",
            "  inflating: data/tasks_1-20_v1-2/hn/qa9_simple-negation_test.txt  \n",
            "  inflating: data/tasks_1-20_v1-2/hn/qa9_simple-negation_train.txt  \n",
            "  inflating: data/tasks_1-20_v1-2/shuffled-10k/qa10_indefinite-knowledge_test.txt  \n",
            "  inflating: data/tasks_1-20_v1-2/shuffled-10k/qa10_indefinite-knowledge_train.txt  \n",
            "  inflating: data/tasks_1-20_v1-2/shuffled-10k/qa11_basic-coreference_test.txt  \n",
            "  inflating: data/tasks_1-20_v1-2/shuffled-10k/qa11_basic-coreference_train.txt  \n",
            "  inflating: data/tasks_1-20_v1-2/shuffled-10k/qa12_conjunction_test.txt  \n",
            "  inflating: data/tasks_1-20_v1-2/shuffled-10k/qa12_conjunction_train.txt  \n",
            "  inflating: data/tasks_1-20_v1-2/shuffled-10k/qa13_compound-coreference_test.txt  \n",
            "  inflating: data/tasks_1-20_v1-2/shuffled-10k/qa13_compound-coreference_train.txt  \n",
            "  inflating: data/tasks_1-20_v1-2/shuffled-10k/qa14_time-reasoning_test.txt  \n",
            "  inflating: data/tasks_1-20_v1-2/shuffled-10k/qa14_time-reasoning_train.txt  \n",
            "  inflating: data/tasks_1-20_v1-2/shuffled-10k/qa15_basic-deduction_test.txt  \n",
            "  inflating: data/tasks_1-20_v1-2/shuffled-10k/qa15_basic-deduction_train.txt  \n",
            "  inflating: data/tasks_1-20_v1-2/shuffled-10k/qa16_basic-induction_test.txt  \n",
            "  inflating: data/tasks_1-20_v1-2/shuffled-10k/qa16_basic-induction_train.txt  \n",
            "  inflating: data/tasks_1-20_v1-2/shuffled-10k/qa17_positional-reasoning_test.txt  \n",
            "  inflating: data/tasks_1-20_v1-2/shuffled-10k/qa17_positional-reasoning_train.txt  \n",
            "  inflating: data/tasks_1-20_v1-2/shuffled-10k/qa18_size-reasoning_test.txt  \n",
            "  inflating: data/tasks_1-20_v1-2/shuffled-10k/qa18_size-reasoning_train.txt  \n",
            "  inflating: data/tasks_1-20_v1-2/shuffled-10k/qa19_path-finding_test.txt  \n",
            "  inflating: data/tasks_1-20_v1-2/shuffled-10k/qa19_path-finding_train.txt  \n",
            "  inflating: data/tasks_1-20_v1-2/shuffled-10k/qa1_single-supporting-fact_test.txt  \n",
            "  inflating: data/tasks_1-20_v1-2/shuffled-10k/qa1_single-supporting-fact_train.txt  \n",
            "  inflating: data/tasks_1-20_v1-2/shuffled-10k/qa20_agents-motivations_test.txt  \n",
            "  inflating: data/tasks_1-20_v1-2/shuffled-10k/qa20_agents-motivations_train.txt  \n",
            "  inflating: data/tasks_1-20_v1-2/shuffled-10k/qa2_two-supporting-facts_test.txt  \n",
            "  inflating: data/tasks_1-20_v1-2/shuffled-10k/qa2_two-supporting-facts_train.txt  \n",
            "  inflating: data/tasks_1-20_v1-2/shuffled-10k/qa3_three-supporting-facts_test.txt  \n",
            "  inflating: data/tasks_1-20_v1-2/shuffled-10k/qa3_three-supporting-facts_train.txt  \n",
            "  inflating: data/tasks_1-20_v1-2/shuffled-10k/qa4_two-arg-relations_test.txt  \n",
            "  inflating: data/tasks_1-20_v1-2/shuffled-10k/qa4_two-arg-relations_train.txt  \n",
            "  inflating: data/tasks_1-20_v1-2/shuffled-10k/qa5_three-arg-relations_test.txt  \n",
            "  inflating: data/tasks_1-20_v1-2/shuffled-10k/qa5_three-arg-relations_train.txt  \n",
            "  inflating: data/tasks_1-20_v1-2/shuffled-10k/qa6_yes-no-questions_test.txt  \n",
            "  inflating: data/tasks_1-20_v1-2/shuffled-10k/qa6_yes-no-questions_train.txt  \n",
            "  inflating: data/tasks_1-20_v1-2/shuffled-10k/qa7_counting_test.txt  \n",
            "  inflating: data/tasks_1-20_v1-2/shuffled-10k/qa7_counting_train.txt  \n",
            "  inflating: data/tasks_1-20_v1-2/shuffled-10k/qa8_lists-sets_test.txt  \n",
            "  inflating: data/tasks_1-20_v1-2/shuffled-10k/qa8_lists-sets_train.txt  \n",
            "  inflating: data/tasks_1-20_v1-2/shuffled-10k/qa9_simple-negation_test.txt  \n",
            "  inflating: data/tasks_1-20_v1-2/shuffled-10k/qa9_simple-negation_train.txt  \n",
            "  inflating: data/tasks_1-20_v1-2/shuffled/qa10_indefinite-knowledge_test.txt  \n",
            "  inflating: data/tasks_1-20_v1-2/shuffled/qa10_indefinite-knowledge_train.txt  \n",
            "  inflating: data/tasks_1-20_v1-2/shuffled/qa11_basic-coreference_test.txt  \n",
            "  inflating: data/tasks_1-20_v1-2/shuffled/qa11_basic-coreference_train.txt  \n",
            "  inflating: data/tasks_1-20_v1-2/shuffled/qa12_conjunction_test.txt  \n",
            "  inflating: data/tasks_1-20_v1-2/shuffled/qa12_conjunction_train.txt  \n",
            "  inflating: data/tasks_1-20_v1-2/shuffled/qa13_compound-coreference_test.txt  \n",
            "  inflating: data/tasks_1-20_v1-2/shuffled/qa13_compound-coreference_train.txt  \n",
            "  inflating: data/tasks_1-20_v1-2/shuffled/qa14_time-reasoning_test.txt  \n",
            "  inflating: data/tasks_1-20_v1-2/shuffled/qa14_time-reasoning_train.txt  \n",
            "  inflating: data/tasks_1-20_v1-2/shuffled/qa15_basic-deduction_test.txt  \n",
            "  inflating: data/tasks_1-20_v1-2/shuffled/qa15_basic-deduction_train.txt  \n",
            "  inflating: data/tasks_1-20_v1-2/shuffled/qa16_basic-induction_test.txt  \n",
            "  inflating: data/tasks_1-20_v1-2/shuffled/qa16_basic-induction_train.txt  \n",
            "  inflating: data/tasks_1-20_v1-2/shuffled/qa17_positional-reasoning_test.txt  \n",
            "  inflating: data/tasks_1-20_v1-2/shuffled/qa17_positional-reasoning_train.txt  \n",
            "  inflating: data/tasks_1-20_v1-2/shuffled/qa18_size-reasoning_test.txt  \n",
            "  inflating: data/tasks_1-20_v1-2/shuffled/qa18_size-reasoning_train.txt  \n",
            "  inflating: data/tasks_1-20_v1-2/shuffled/qa19_path-finding_test.txt  \n",
            "  inflating: data/tasks_1-20_v1-2/shuffled/qa19_path-finding_train.txt  \n",
            "  inflating: data/tasks_1-20_v1-2/shuffled/qa1_single-supporting-fact_test.txt  \n",
            "  inflating: data/tasks_1-20_v1-2/shuffled/qa1_single-supporting-fact_train.txt  \n",
            "  inflating: data/tasks_1-20_v1-2/shuffled/qa20_agents-motivations_test.txt  \n",
            "  inflating: data/tasks_1-20_v1-2/shuffled/qa20_agents-motivations_train.txt  \n",
            "  inflating: data/tasks_1-20_v1-2/shuffled/qa2_two-supporting-facts_test.txt  \n",
            "  inflating: data/tasks_1-20_v1-2/shuffled/qa2_two-supporting-facts_train.txt  \n",
            "  inflating: data/tasks_1-20_v1-2/shuffled/qa3_three-supporting-facts_test.txt  \n",
            "  inflating: data/tasks_1-20_v1-2/shuffled/qa3_three-supporting-facts_train.txt  \n",
            "  inflating: data/tasks_1-20_v1-2/shuffled/qa4_two-arg-relations_test.txt  \n",
            "  inflating: data/tasks_1-20_v1-2/shuffled/qa4_two-arg-relations_train.txt  \n",
            "  inflating: data/tasks_1-20_v1-2/shuffled/qa5_three-arg-relations_test.txt  \n",
            "  inflating: data/tasks_1-20_v1-2/shuffled/qa5_three-arg-relations_train.txt  \n",
            "  inflating: data/tasks_1-20_v1-2/shuffled/qa6_yes-no-questions_test.txt  \n",
            "  inflating: data/tasks_1-20_v1-2/shuffled/qa6_yes-no-questions_train.txt  \n",
            "  inflating: data/tasks_1-20_v1-2/shuffled/qa7_counting_test.txt  \n",
            "  inflating: data/tasks_1-20_v1-2/shuffled/qa7_counting_train.txt  \n",
            "  inflating: data/tasks_1-20_v1-2/shuffled/qa8_lists-sets_test.txt  \n",
            "  inflating: data/tasks_1-20_v1-2/shuffled/qa8_lists-sets_train.txt  \n",
            "  inflating: data/tasks_1-20_v1-2/shuffled/qa9_simple-negation_test.txt  \n",
            "  inflating: data/tasks_1-20_v1-2/shuffled/qa9_simple-negation_train.txt  \n"
          ]
        }
      ],
      "source": [
        "!git clone https://github.com/booydar/babilong source\n",
        "!unzip source/data/tasks_1-20_v1-2.zip -d data/"
      ]
    },
    {
      "cell_type": "markdown",
      "source": [
        "# Accessing Gemma Tokenizer\n",
        "\n",
        "* To access Gemma Tokenizer, you must first accept the terms on [HuggingFace Gemma-7B Page](https://huggingface.co/google/gemma-7b)\n",
        "* Afterwards, you can authenticate through HuggingFace CLI to start using the tokenizer"
      ],
      "metadata": {
        "id": "xhiGQ6UCpREo"
      }
    },
    {
      "cell_type": "code",
      "source": [
        "!pip install -U \"huggingface_hub[cli]\""
      ],
      "metadata": {
        "colab": {
          "base_uri": "https://localhost:8080/",
          "height": 599
        },
        "id": "G62vGyPAhf9V",
        "outputId": "515153a9-fe8d-49fd-a752-64a15d37a39a"
      },
      "execution_count": 14,
      "outputs": [
        {
          "output_type": "stream",
          "name": "stdout",
          "text": [
            "Requirement already satisfied: huggingface_hub[cli] in /usr/local/lib/python3.10/dist-packages (0.20.3)\n",
            "Collecting huggingface_hub[cli]\n",
            "  Downloading huggingface_hub-0.22.2-py3-none-any.whl (388 kB)\n",
            "\u001b[2K     \u001b[90m━━━━━━━━━━━━━━━━━━━━━━━━━━━━━━━━━━━━━━━━\u001b[0m \u001b[32m388.9/388.9 kB\u001b[0m \u001b[31m4.6 MB/s\u001b[0m eta \u001b[36m0:00:00\u001b[0m\n",
            "\u001b[?25hRequirement already satisfied: filelock in /usr/local/lib/python3.10/dist-packages (from huggingface_hub[cli]) (3.13.4)\n",
            "Requirement already satisfied: fsspec>=2023.5.0 in /usr/local/lib/python3.10/dist-packages (from huggingface_hub[cli]) (2023.6.0)\n",
            "Requirement already satisfied: packaging>=20.9 in /usr/local/lib/python3.10/dist-packages (from huggingface_hub[cli]) (24.0)\n",
            "Requirement already satisfied: pyyaml>=5.1 in /usr/local/lib/python3.10/dist-packages (from huggingface_hub[cli]) (6.0.1)\n",
            "Requirement already satisfied: requests in /usr/local/lib/python3.10/dist-packages (from huggingface_hub[cli]) (2.31.0)\n",
            "Requirement already satisfied: tqdm>=4.42.1 in /usr/local/lib/python3.10/dist-packages (from huggingface_hub[cli]) (4.66.2)\n",
            "Requirement already satisfied: typing-extensions>=3.7.4.3 in /usr/local/lib/python3.10/dist-packages (from huggingface_hub[cli]) (4.11.0)\n",
            "Collecting InquirerPy==0.3.4 (from huggingface_hub[cli])\n",
            "  Downloading InquirerPy-0.3.4-py3-none-any.whl (67 kB)\n",
            "\u001b[2K     \u001b[90m━━━━━━━━━━━━━━━━━━━━━━━━━━━━━━━━━━━━━━━━\u001b[0m \u001b[32m67.7/67.7 kB\u001b[0m \u001b[31m6.0 MB/s\u001b[0m eta \u001b[36m0:00:00\u001b[0m\n",
            "\u001b[?25hCollecting pfzy<0.4.0,>=0.3.1 (from InquirerPy==0.3.4->huggingface_hub[cli])\n",
            "  Downloading pfzy-0.3.4-py3-none-any.whl (8.5 kB)\n",
            "Requirement already satisfied: prompt-toolkit<4.0.0,>=3.0.1 in /usr/local/lib/python3.10/dist-packages (from InquirerPy==0.3.4->huggingface_hub[cli]) (3.0.43)\n",
            "Requirement already satisfied: charset-normalizer<4,>=2 in /usr/local/lib/python3.10/dist-packages (from requests->huggingface_hub[cli]) (3.3.2)\n",
            "Requirement already satisfied: idna<4,>=2.5 in /usr/local/lib/python3.10/dist-packages (from requests->huggingface_hub[cli]) (3.6)\n",
            "Requirement already satisfied: urllib3<3,>=1.21.1 in /usr/local/lib/python3.10/dist-packages (from requests->huggingface_hub[cli]) (2.0.7)\n",
            "Requirement already satisfied: certifi>=2017.4.17 in /usr/local/lib/python3.10/dist-packages (from requests->huggingface_hub[cli]) (2024.2.2)\n",
            "Requirement already satisfied: wcwidth in /usr/local/lib/python3.10/dist-packages (from prompt-toolkit<4.0.0,>=3.0.1->InquirerPy==0.3.4->huggingface_hub[cli]) (0.2.13)\n",
            "Installing collected packages: pfzy, InquirerPy, huggingface_hub\n",
            "  Attempting uninstall: huggingface_hub\n",
            "    Found existing installation: huggingface-hub 0.20.3\n",
            "    Uninstalling huggingface-hub-0.20.3:\n",
            "      Successfully uninstalled huggingface-hub-0.20.3\n",
            "Successfully installed InquirerPy-0.3.4 huggingface_hub-0.22.2 pfzy-0.3.4\n"
          ]
        },
        {
          "output_type": "display_data",
          "data": {
            "application/vnd.colab-display-data+json": {
              "pip_warning": {
                "packages": [
                  "huggingface_hub"
                ]
              },
              "id": "7ee7128d042e41028f7efbec540eb381"
            }
          },
          "metadata": {}
        }
      ]
    },
    {
      "cell_type": "code",
      "source": [
        "!huggingface-cli login"
      ],
      "metadata": {
        "colab": {
          "base_uri": "https://localhost:8080/"
        },
        "id": "m8tKN61Mhs-k",
        "outputId": "e7bb490a-f2d4-4cc3-c77d-66e819d41039"
      },
      "execution_count": 2,
      "outputs": [
        {
          "output_type": "stream",
          "name": "stdout",
          "text": [
            "\n",
            "    _|    _|  _|    _|    _|_|_|    _|_|_|  _|_|_|  _|      _|    _|_|_|      _|_|_|_|    _|_|      _|_|_|  _|_|_|_|\n",
            "    _|    _|  _|    _|  _|        _|          _|    _|_|    _|  _|            _|        _|    _|  _|        _|\n",
            "    _|_|_|_|  _|    _|  _|  _|_|  _|  _|_|    _|    _|  _|  _|  _|  _|_|      _|_|_|    _|_|_|_|  _|        _|_|_|\n",
            "    _|    _|  _|    _|  _|    _|  _|    _|    _|    _|    _|_|  _|    _|      _|        _|    _|  _|        _|\n",
            "    _|    _|    _|_|      _|_|_|    _|_|_|  _|_|_|  _|      _|    _|_|_|      _|        _|    _|    _|_|_|  _|_|_|_|\n",
            "\n",
            "    A token is already saved on your machine. Run `huggingface-cli whoami` to get more information or `huggingface-cli logout` if you want to log out.\n",
            "    Setting a new token will erase the existing one.\n",
            "    To login, `huggingface_hub` requires a token generated from https://huggingface.co/settings/tokens .\n",
            "Enter your token (input will not be visible): \n",
            "Add token as git credential? (Y/n) n\n",
            "Token is valid (permission: read).\n",
            "Your token has been saved to /root/.cache/huggingface/token\n",
            "Login successful\n"
          ]
        }
      ]
    },
    {
      "cell_type": "code",
      "execution_count": 3,
      "metadata": {
        "scrolled": true,
        "id": "OgFYb4TMIqiD"
      },
      "outputs": [],
      "source": [
        "import google.generativeai as genai\n",
        "import asyncio\n",
        "import pandas as pd\n",
        "from tqdm import tqdm\n",
        "from datasets import load_dataset, Dataset\n",
        "import numpy as np\n",
        "from transformers import AutoTokenizer\n",
        "import time\n",
        "import os\n",
        "import datasets\n",
        "from source.babilong_utils import TaskDataset, SentenceSampler, NoiseInjectionDataset"
      ]
    },
    {
      "cell_type": "markdown",
      "metadata": {
        "id": "8REn_e9rIqiE"
      },
      "source": [
        "# Choose parameters for evaluation:\n",
        "* task: babilong task (qa1 - qa10). Use different prompts for each task! You can find our prompts in the Appendix B of our paper\n",
        "* task_path: path to the file with task data\n",
        "* message_lengths: list of task lengths to evaluate. It must be less then the LLM's context window\n",
        "* number_of_samples: number of instances of the task with message_length to evaluate\n",
        "\n",
        "# Choose LLM\n",
        "* model: Claude model\n",
        "    * 'gemini-1.5-pro' - Gemini1.5 Pro, context length up to 128k (1M for limited no. of enterprise users)\n",
        "    * 'gemini-1.0-pro' - Gemini1.0 Pro, context length up to 128k\n",
        "* token: your token for Gemini api\n",
        "\n",
        "# .env\n",
        "* Create a `.env` file:\n",
        "```\n",
        "GEMINI_API_KEY=...\n",
        "```"
      ]
    },
    {
      "cell_type": "code",
      "execution_count": 15,
      "metadata": {
        "id": "yWTNymKmIqiF"
      },
      "outputs": [],
      "source": [
        "import os\n",
        "from dotenv import load_dotenv\n",
        "load_dotenv()\n",
        "\n",
        "task = 'qa1'\n",
        "task_path = 'data/tasks_1-20_v1-2/en-10k/qa1_single-supporting-fact_test.txt'\n",
        "message_lengths = [4000]\n",
        "number_of_samples = 1\n",
        "\n",
        "model = 'gemini-1.0-pro'\n",
        "tokenizer_model = 'google/gemma-7b'\n",
        "token = os.getenv('GEMINI_API_KEY')"
      ]
    },
    {
      "cell_type": "markdown",
      "metadata": {
        "id": "cdcDo9VDIqiH"
      },
      "source": [
        "# Adapt gemma tokenizer api to babilong utils"
      ]
    },
    {
      "cell_type": "code",
      "execution_count": 16,
      "metadata": {
        "id": "PN7Ipm-IIqiH"
      },
      "outputs": [],
      "source": [
        "class Tokenizer():\n",
        "    def __init__(self, model):\n",
        "        self.impl_ = AutoTokenizer.from_pretrained(model)\n",
        "\n",
        "    def __call__(self, inp):\n",
        "        if isinstance(inp, list):\n",
        "            result = self.encode_batch(inp)\n",
        "        else:\n",
        "            result = self.impl_.encode(inp)\n",
        "        return {\n",
        "            'input_ids': result\n",
        "        }\n",
        "\n",
        "    def encode(self, inp, add_special_tokens=True):\n",
        "        return self.impl_.encode(inp, add_special_tokens=add_special_tokens)\n",
        "\n",
        "    def decode(self, inp, skip_special_tokens=True):\n",
        "        return self.impl_.decode(inp, skip_special_tokens=skip_special_tokens)\n",
        "\n",
        "    def encode_batch(self, inp_list, add_special_tokens=True):\n",
        "        return [self.impl_.encode(inp, add_special_tokens=add_special_tokens) for inp in inp_list]\n",
        "\n",
        "    def decode_batch(self, inp, skip_special_tokens=True):\n",
        "        return [self.impl_.decode(tokens, skip_special_tokens=skip_special_tokens) for tokens in inp]"
      ]
    },
    {
      "cell_type": "markdown",
      "metadata": {
        "id": "LamM1qiPIqiI"
      },
      "source": [
        "# Choose noise dataset\n",
        "\n",
        "In this example we use wikitext to generate noise.\n",
        "To reproduce results from our paper use PG19."
      ]
    },
    {
      "cell_type": "code",
      "execution_count": 6,
      "metadata": {
        "colab": {
          "base_uri": "https://localhost:8080/"
        },
        "id": "STqPL27eIqiJ",
        "outputId": "a61ac29a-6a9d-4f79-e696-54a214472c90"
      },
      "outputs": [
        {
          "output_type": "stream",
          "name": "stderr",
          "text": [
            "/usr/local/lib/python3.10/dist-packages/huggingface_hub/utils/_token.py:89: UserWarning: \n",
            "The secret `HF_TOKEN` does not exist in your Colab secrets.\n",
            "To authenticate with the Hugging Face Hub, create a token in your settings tab (https://huggingface.co/settings/tokens), set it as secret in your Google Colab and restart your session.\n",
            "You will be able to reuse this secret in all of your notebooks.\n",
            "Please note that authentication is recommended but still optional to access public models or datasets.\n",
            "  warnings.warn(\n"
          ]
        }
      ],
      "source": [
        "noise_dataset = datasets.load_dataset('wikitext', 'wikitext-2-raw-v1')\n",
        "#noise_dataset = datasets.load_from_disk(\"pg19-data-test\")"
      ]
    },
    {
      "cell_type": "markdown",
      "metadata": {
        "id": "WQ72RBfLIqiJ"
      },
      "source": [
        "# Run evaluation loop and save results in .csv format"
      ]
    },
    {
      "cell_type": "code",
      "execution_count": 17,
      "metadata": {
        "colab": {
          "base_uri": "https://localhost:8080/",
          "height": 34
        },
        "id": "pO1DKDyaIqiK",
        "outputId": "92b81c5a-22c6-463d-af76-d3ebd171884f"
      },
      "outputs": [
        {
          "output_type": "stream",
          "name": "stdout",
          "text": [
            "4000 0 hallway hallway\n"
          ]
        }
      ],
      "source": [
        "# create directory to save LLM responses\n",
        "os.makedirs(task, exist_ok=True)\n",
        "\n",
        "genai.configure(api_key=token)\n",
        "\n",
        "client = genai.GenerativeModel(model)\n",
        "\n",
        "tokenizer = Tokenizer(tokenizer_model)\n",
        "\n",
        "task_dataset_test = TaskDataset(task_path)\n",
        "noise_sampler_test = SentenceSampler(noise_dataset['test'], tokenizer=tokenizer)\n",
        "\n",
        "for message_length in message_lengths:\n",
        "    outfile =  f'{task}/msg_{message_length}.csv'\n",
        "    df = pd.DataFrame({\n",
        "        'answer': [],\n",
        "        'geminianswer': [],\n",
        "        'result': [],\n",
        "    })\n",
        "\n",
        "    # create dataset with given message length\n",
        "    dataset_test = NoiseInjectionDataset(task_dataset=task_dataset_test,\n",
        "                                         noise_sampler=noise_sampler_test,\n",
        "                                         tokenizer=tokenizer,\n",
        "                                         sample_size=message_length)\n",
        "\n",
        "    # collect Gemini responses and save them in .csv\n",
        "    for i, sample in zip(range(number_of_samples), dataset_test):\n",
        "        facts = sample['facts']\n",
        "        question = sample['question']\n",
        "        true_answer = tokenizer.decode(sample['target_tokens'])\n",
        "        background_text = tokenizer.decode_batch(sample['background_text'])\n",
        "        query = tokenizer.decode(sample['input_tokens'])\n",
        "\n",
        "        messages = [\n",
        "            {\n",
        "                \"role\": \"user\",\n",
        "                \"parts\": [\"You are a intelligent assistant.\", f\"\"\"I give you context with the facts about positions of different persons hidden in some random text and a question.\n",
        " You need to answer the question based only on the information from the facts.\n",
        "If a person was in different locations use the latest location to answer the question.\\n\\n\n",
        "<example>\\n\n",
        "Charlie went to the hallway. Judith come back to the kitchen. Charlie travelled to balcony. Where is Charlie?\\n\n",
        "Assistant: balcony\\n\n",
        "</example>\\n\\n\n",
        "<example>\\n\n",
        "Alan moved to the garage. Charlie went to the beach. Alan went to the shop. Rouse travelled to balcony. Where is Alan?\\n\n",
        "Assistant: shop\\n\n",
        "</example>\\n\\n\n",
        "<context>\\n\n",
        "{query}\n",
        "</context>\\n\\n\n",
        "QUESTION: {question}\\n\n",
        "Your answer should be a single word - the most recent location of ’person’ in the question.\n",
        "Do not write anything afer that.\"\"\"],\n",
        "            }\n",
        "        ]\n",
        "\n",
        "        response = client.generate_content(messages)\n",
        "        gemini_answer = response.text.strip().lower()\n",
        "\n",
        "        if gemini_answer.endswith('.'):\n",
        "            gemini_answer = gemini_answer[:-1]\n",
        "\n",
        "        print(message_length, i, true_answer, gemini_answer)\n",
        "\n",
        "        df.loc[len(df)] = [true_answer, gemini_answer, true_answer == gemini_answer]\n",
        "        df.to_csv(outfile)"
      ]
    },
    {
      "cell_type": "markdown",
      "metadata": {
        "id": "yXWIflgsIqib"
      },
      "source": [
        "# Plot evaluation results"
      ]
    },
    {
      "cell_type": "code",
      "execution_count": 18,
      "metadata": {
        "colab": {
          "base_uri": "https://localhost:8080/",
          "height": 255
        },
        "id": "uQHYz9ZyIqic",
        "outputId": "3d115fa3-7c4a-4e78-f8bc-216cc37454c8"
      },
      "outputs": [
        {
          "output_type": "display_data",
          "data": {
            "text/plain": [
              "<Figure size 1850x200 with 2 Axes>"
            ],
            "image/png": "[encoded data removed]"
          },
          "metadata": {}
        }
      ],
      "source": [
        "import seaborn as sns\n",
        "import matplotlib\n",
        "import matplotlib.pylab as plt\n",
        "from matplotlib.colors import LinearSegmentedColormap\n",
        "\n",
        "accuracy = np.zeros((1, len(message_lengths)))\n",
        "\n",
        "for i, msg in enumerate(message_lengths):\n",
        "    fname = f'{task}/msg_{msg}.csv'\n",
        "    if not os.path.isfile(fname):\n",
        "        print('not such file', fname)\n",
        "        continue\n",
        "    df = pd.read_csv(fname, index_col=[0])\n",
        "    last_word = df['geminianswer'].apply(lambda x: x.split(' ')[-1]).apply(lambda x: x.split('\\n')[-1])\n",
        "    score = (last_word == df['answer']).sum()\n",
        "    accuracy[0, i] = score / len(df)\n",
        "\n",
        "font = {\n",
        "    'size'   : 30\n",
        "}\n",
        "\n",
        "matplotlib.rc('font', **font)\n",
        "fig = matplotlib.pyplot.gcf()\n",
        "fig.set_size_inches(18.5, 2)\n",
        "\n",
        "\n",
        "cmap = LinearSegmentedColormap.from_list('ryg', [\"red\", \"yellow\", \"green\"], N=256)\n",
        "ax = sns.heatmap(accuracy, cmap=cmap, vmin=0, vmax=1, annot=True, linewidth=0.5)\n",
        "ax.set_xlabel('Context size')\n",
        "labels = [f'{ln}' if ln < 1000 else f'{int(ln / 1000)}k' for ln in message_lengths]\n",
        "ax.set_xticks(np.array(range(accuracy.shape[1])) + 0.5, labels)\n",
        "ax.tick_params(axis='y', rotation=90)\n",
        "ax.set_yticks([0], [''])\n",
        "ax.set_title('Performance of '+f'{model}'+' on BABILong benchmark task '+f'{task}'+', accuracy')\n",
        "plt.show()\n",
        "\n",
        "fig.savefig('fig.pdf', dpi=100)"
      ]
    }
  ],
  "metadata": {
    "kernelspec": {
      "display_name": "babilong",
      "language": "python",
      "name": "babilong"
    },
    "language_info": {
      "codemirror_mode": {
        "name": "ipython",
        "version": 3
      },
      "file_extension": ".py",
      "mimetype": "text/x-python",
      "name": "python",
      "nbconvert_exporter": "python",
      "pygments_lexer": "ipython3",
      "version": "3.11.6"
    },
    "colab": {
      "provenance": [],
      "include_colab_link": true
    }
  },
  "nbformat": 4,
  "nbformat_minor": 0
}